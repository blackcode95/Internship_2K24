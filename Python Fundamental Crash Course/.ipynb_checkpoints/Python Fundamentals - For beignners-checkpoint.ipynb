{
 "cells": [
  {
   "cell_type": "markdown",
   "id": "361cfaca",
   "metadata": {},
   "source": [
    "# SAP CodeUnnati - Python Introduction😁"
   ]
  },
  {
   "cell_type": "code",
   "execution_count": 4,
   "id": "8f2ebaec",
   "metadata": {},
   "outputs": [
    {
     "name": "stdout",
     "output_type": "stream",
     "text": [
      " Vikas Manhas😎\n"
     ]
    }
   ],
   "source": [
    "print(\" Vikas Manhas😎\")"
   ]
  },
  {
   "cell_type": "code",
   "execution_count": 14,
   "id": "2f336687",
   "metadata": {},
   "outputs": [
    {
     "name": "stdout",
     "output_type": "stream",
     "text": [
      "10\n"
     ]
    }
   ],
   "source": [
    "a = 10\n",
    "print(a)"
   ]
  },
  {
   "cell_type": "code",
   "execution_count": 26,
   "id": "6089e844",
   "metadata": {},
   "outputs": [
    {
     "name": "stdout",
     "output_type": "stream",
     "text": [
      "10\n",
      "3.14\n",
      "surat\n",
      "Code Unnati 2.0\n",
      "True\n",
      "<class 'int'> <class 'float'> <class 'str'> <class 'str'> <class 'bool'>\n"
     ]
    }
   ],
   "source": [
    "a = 10\n",
    "b = 3.14\n",
    "c = \"surat\"\n",
    "d = \"Code Unnati 2.0\"\n",
    "e = True\n",
    "print(a,b,c,d,e, sep = '\\n')\n",
    "print(type(a),type(b), type(c),type(d),type(e))\n"
   ]
  },
  {
   "cell_type": "code",
   "execution_count": 27,
   "id": "e9ef36d5",
   "metadata": {},
   "outputs": [
    {
     "name": "stdout",
     "output_type": "stream",
     "text": [
      "10 4 5 6\n"
     ]
    }
   ],
   "source": [
    "b,c,d = 4,5,6\n",
    "print(a,b,c,d)"
   ]
  },
  {
   "cell_type": "markdown",
   "id": "24eb35e1",
   "metadata": {},
   "source": [
    "# Python String"
   ]
  },
  {
   "cell_type": "code",
   "execution_count": 38,
   "id": "265e72b9",
   "metadata": {},
   "outputs": [
    {
     "name": "stdout",
     "output_type": "stream",
     "text": [
      " your name  your surname\n",
      " your name your name your name your name your name\n"
     ]
    }
   ],
   "source": [
    "str1 = \" your name\"\n",
    "str2 = \"  your surname\"\n",
    "str3 = str1 + str2\n",
    "print(str3)\n",
    "str4 = str1*5\n",
    "print(str4)"
   ]
  },
  {
   "cell_type": "code",
   "execution_count": 48,
   "id": "4acb3605",
   "metadata": {},
   "outputs": [
    {
     "name": "stdout",
     "output_type": "stream",
     "text": [
      "48\n",
      "      python is a programming language          \n",
      "      PYTHON IS A PROGRAMMING LANGUAGE          \n",
      "      Python Is A Programming Language          \n",
      "python is a programming language          \n",
      "      python is a programming language\n",
      "python is a programming language\n"
     ]
    }
   ],
   "source": [
    "var = \"      python is a programming language          \"\n",
    "print(len(var))\n",
    "print(var.lower())\n",
    "print(var.upper())\n",
    "print(var.title())\n",
    "print(var.lstrip())\n",
    "print(var.rstrip())\n",
    "print(var.strip())"
   ]
  },
  {
   "cell_type": "code",
   "execution_count": 52,
   "id": "bcc83aec",
   "metadata": {},
   "outputs": [
    {
     "data": {
      "text/plain": [
       "'guj'"
      ]
     },
     "execution_count": 52,
     "metadata": {},
     "output_type": "execute_result"
    }
   ],
   "source": [
    "str1 = \"gujarat\"\n",
    "str1[0:3]"
   ]
  },
  {
   "cell_type": "code",
   "execution_count": 53,
   "id": "8b35412e",
   "metadata": {},
   "outputs": [
    {
     "data": {
      "text/plain": [
       "'jara'"
      ]
     },
     "execution_count": 53,
     "metadata": {},
     "output_type": "execute_result"
    }
   ],
   "source": [
    "str1[2:6]"
   ]
  },
  {
   "cell_type": "code",
   "execution_count": 58,
   "id": "a2a8c1c4",
   "metadata": {},
   "outputs": [
    {
     "data": {
      "text/plain": [
       "'etu'"
      ]
     },
     "execution_count": 58,
     "metadata": {},
     "output_type": "execute_result"
    }
   ],
   "source": [
    "\"beautiful\"[1::3]"
   ]
  },
  {
   "cell_type": "code",
   "execution_count": null,
   "id": "84874ff6",
   "metadata": {},
   "outputs": [],
   "source": [
    "fruits = ['apple', 'banana', 'cherry']\n",
    "cars = ['Ford', 'BMW', 'Volvo']\n",
    "\n",
    "fruits.extend([a,b,c])\n",
    "print(fruits)"
   ]
  },
  {
   "cell_type": "code",
   "execution_count": null,
   "id": "63c870d5",
   "metadata": {},
   "outputs": [],
   "source": [
    "cars = {\n",
    "  \"brand\": \"Mahindra\",\n",
    "  \"model\": \"Thar\",\n",
    "  \"year\": 2010\n",
    "}\n",
    "cars.pop()"
   ]
  },
  {
   "cell_type": "code",
   "execution_count": null,
   "id": "7248a5c9",
   "metadata": {},
   "outputs": [],
   "source": []
  }
 ],
 "metadata": {
  "kernelspec": {
   "display_name": "Python 3 (ipykernel)",
   "language": "python",
   "name": "python3"
  },
  "language_info": {
   "codemirror_mode": {
    "name": "ipython",
    "version": 3
   },
   "file_extension": ".py",
   "mimetype": "text/x-python",
   "name": "python",
   "nbconvert_exporter": "python",
   "pygments_lexer": "ipython3",
   "version": "3.9.12"
  }
 },
 "nbformat": 4,
 "nbformat_minor": 5
}
