{
 "cells": [
  {
   "cell_type": "code",
   "execution_count": 16,
   "id": "f47a6fff",
   "metadata": {},
   "outputs": [
    {
     "name": "stdout",
     "output_type": "stream",
     "text": [
      "['apple', 'banana', 'orange', 'grape', 'mango']\n"
     ]
    }
   ],
   "source": [
    "fruits_lists = []\n",
    "\n",
    "fruits_lists.append(\"apple\")\n",
    "fruits_lists.append(\"banana\")\n",
    "fruits_lists.append(\"orange\")\n",
    "fruits_lists.append(\"grape\")\n",
    "fruits_lists.append(\"mango\")\n",
    "print(fruits_lists)"
   ]
  },
  {
   "cell_type": "code",
   "execution_count": 17,
   "id": "a7a64f8c",
   "metadata": {},
   "outputs": [
    {
     "name": "stdout",
     "output_type": "stream",
     "text": [
      "apple mango banana orange\n"
     ]
    }
   ],
   "source": [
    "print(fruits_lists[0],fruits_lists[-1],fruits_lists[1],fruits_lists[2])"
   ]
  },
  {
   "cell_type": "code",
   "execution_count": 18,
   "id": "f18edb14",
   "metadata": {},
   "outputs": [
    {
     "data": {
      "text/plain": [
       "5"
      ]
     },
     "execution_count": 18,
     "metadata": {},
     "output_type": "execute_result"
    }
   ],
   "source": [
    "len(fruits_lists)"
   ]
  },
  {
   "cell_type": "code",
   "execution_count": 20,
   "id": "9f182d5a",
   "metadata": {},
   "outputs": [
    {
     "data": {
      "text/plain": [
       "['apple', 'banana', 'pear', 'grape', 'mango']"
      ]
     },
     "execution_count": 20,
     "metadata": {},
     "output_type": "execute_result"
    }
   ],
   "source": [
    "fruits_lists[2] = \"pear\"\n",
    "fruits_lists"
   ]
  },
  {
   "cell_type": "code",
   "execution_count": 21,
   "id": "501eff67",
   "metadata": {},
   "outputs": [
    {
     "name": "stdout",
     "output_type": "stream",
     "text": [
      "apple\n"
     ]
    }
   ],
   "source": [
    "for i in fruits_lists:\n",
    "    if i == \"apple\":\n",
    "        print(i)\n",
    "        break"
   ]
  },
  {
   "cell_type": "code",
   "execution_count": 29,
   "id": "e6c91e8a",
   "metadata": {},
   "outputs": [
    {
     "ename": "ValueError",
     "evalue": "list.remove(x): x not in list",
     "output_type": "error",
     "traceback": [
      "\u001b[1;31m---------------------------------------------------------------------------\u001b[0m",
      "\u001b[1;31mValueError\u001b[0m                                Traceback (most recent call last)",
      "Input \u001b[1;32mIn [29]\u001b[0m, in \u001b[0;36m<cell line: 1>\u001b[1;34m()\u001b[0m\n\u001b[1;32m----> 1\u001b[0m \u001b[43mfruits_lists\u001b[49m\u001b[38;5;241;43m.\u001b[39;49m\u001b[43mremove\u001b[49m\u001b[43m(\u001b[49m\u001b[38;5;124;43m\"\u001b[39;49m\u001b[38;5;124;43mbanana\u001b[39;49m\u001b[38;5;124;43m\"\u001b[39;49m\u001b[43m)\u001b[49m\n\u001b[0;32m      2\u001b[0m fruits_lists\u001b[38;5;241m.\u001b[39mpop(\u001b[38;5;28mlen\u001b[39m(fruits_lists)\u001b[38;5;241m-\u001b[39m\u001b[38;5;241m1\u001b[39m)\n",
      "\u001b[1;31mValueError\u001b[0m: list.remove(x): x not in list"
     ]
    }
   ],
   "source": [
    "fruits_lists.remove(\"banana\")\n",
    "fruits_lists.pop(len(fruits_lists)-1)"
   ]
  },
  {
   "cell_type": "code",
   "execution_count": 28,
   "id": "ad58e883",
   "metadata": {},
   "outputs": [
    {
     "name": "stdout",
     "output_type": "stream",
     "text": [
      "['apple', 'pear', 'grape', 'mango']\n"
     ]
    }
   ],
   "source": [
    "print(fruits_lists)"
   ]
  },
  {
   "cell_type": "code",
   "execution_count": 30,
   "id": "87b7346d",
   "metadata": {},
   "outputs": [
    {
     "name": "stdout",
     "output_type": "stream",
     "text": [
      "['watermelon', 'kiwi']\n"
     ]
    }
   ],
   "source": [
    "newfruits_lists = [\"watermelon\",\"kiwi\"]\n",
    "print(newfruits_lists)"
   ]
  },
  {
   "cell_type": "code",
   "execution_count": 31,
   "id": "5eb98c8d",
   "metadata": {},
   "outputs": [
    {
     "name": "stdout",
     "output_type": "stream",
     "text": [
      "['apple', 'pear', 'grape', 'mango', 'watermelon', 'kiwi']\n"
     ]
    }
   ],
   "source": [
    "fruits_lists.extend(newfruits_lists)\n",
    "print(fruits_lists)"
   ]
  },
  {
   "cell_type": "code",
   "execution_count": 32,
   "id": "d71598c9",
   "metadata": {},
   "outputs": [
    {
     "name": "stdout",
     "output_type": "stream",
     "text": [
      "['apple', 'grape', 'kiwi', 'mango', 'pear', 'watermelon']\n"
     ]
    }
   ],
   "source": [
    "fruits_lists.sort()\n",
    "print(fruits_lists)"
   ]
  },
  {
   "cell_type": "code",
   "execution_count": 34,
   "id": "885d664e",
   "metadata": {},
   "outputs": [
    {
     "data": {
      "text/plain": [
       "1"
      ]
     },
     "execution_count": 34,
     "metadata": {},
     "output_type": "execute_result"
    }
   ],
   "source": [
    "fruits_lists.count(\"kiwi\")\n"
   ]
  },
  {
   "cell_type": "code",
   "execution_count": 36,
   "id": "49fc8329",
   "metadata": {},
   "outputs": [
    {
     "name": "stdout",
     "output_type": "stream",
     "text": [
      "Python"
     ]
    }
   ],
   "source": [
    "for letter in \"Python\":\n",
    "    print(letter,end=\"\")"
   ]
  },
  {
   "cell_type": "code",
   "execution_count": 37,
   "id": "03642ce0",
   "metadata": {},
   "outputs": [
    {
     "name": "stdout",
     "output_type": "stream",
     "text": [
      "P\n",
      "y\n",
      "t\n",
      "h\n",
      "o\n",
      "n\n"
     ]
    }
   ],
   "source": [
    "for letter in \"Python\":\n",
    "    print(letter)"
   ]
  },
  {
   "cell_type": "code",
   "execution_count": 39,
   "id": "782dda83",
   "metadata": {},
   "outputs": [
    {
     "name": "stdout",
     "output_type": "stream",
     "text": [
      "Total bill amount: 5.6\n"
     ]
    }
   ],
   "source": [
    "def cal_total_bill(items,prices):\n",
    "    if len(items) != len(prices):\n",
    "        return \"ERROR\"\n",
    "    \n",
    "    total_bill = 0\n",
    "    for price in prices:\n",
    "        total_bill += price\n",
    "    return total_bill\n",
    "\n",
    "items_list = [\"Apple\", \"Banana\", \"Milk\", \"Bread\"]\n",
    "prices_list = [1.2, 0.6, 2.3, 1.5]\n",
    "total_bill_amount = cal_total_bill(items_list, prices_list)\n",
    "print(\"Total bill amount:\", total_bill_amount)"
   ]
  },
  {
   "cell_type": "code",
   "execution_count": 40,
   "id": "e86242f3",
   "metadata": {},
   "outputs": [
    {
     "name": "stdout",
     "output_type": "stream",
     "text": [
      "11\n"
     ]
    }
   ],
   "source": [
    "x = lambda a: a + 10\n",
    "print(x(1))"
   ]
  },
  {
   "cell_type": "code",
   "execution_count": 45,
   "id": "049fc537",
   "metadata": {},
   "outputs": [
    {
     "name": "stdout",
     "output_type": "stream",
     "text": [
      "135\n"
     ]
    }
   ],
   "source": [
    "x = lambda a,b: a * b\n",
    "print(x(3, 45))"
   ]
  },
  {
   "cell_type": "code",
   "execution_count": null,
   "id": "c115612f",
   "metadata": {},
   "outputs": [],
   "source": []
  }
 ],
 "metadata": {
  "kernelspec": {
   "display_name": "Python 3 (ipykernel)",
   "language": "python",
   "name": "python3"
  },
  "language_info": {
   "codemirror_mode": {
    "name": "ipython",
    "version": 3
   },
   "file_extension": ".py",
   "mimetype": "text/x-python",
   "name": "python",
   "nbconvert_exporter": "python",
   "pygments_lexer": "ipython3",
   "version": "3.9.12"
  }
 },
 "nbformat": 4,
 "nbformat_minor": 5
}
