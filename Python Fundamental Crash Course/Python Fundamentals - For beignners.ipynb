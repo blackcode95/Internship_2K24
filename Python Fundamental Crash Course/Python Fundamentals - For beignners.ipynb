{
 "cells": [
  {
   "cell_type": "markdown",
   "id": "361cfaca",
   "metadata": {},
   "source": [
    "# SAP CodeUnnati - Python Introduction😁"
   ]
  },
  {
   "cell_type": "code",
   "execution_count": 4,
   "id": "8f2ebaec",
   "metadata": {},
   "outputs": [
    {
     "name": "stdout",
     "output_type": "stream",
     "text": [
      " Vikas Manhas😎\n"
     ]
    }
   ],
   "source": [
    "print(\" Vikas Manhas😎\")"
   ]
  },
  {
   "cell_type": "code",
   "execution_count": 14,
   "id": "2f336687",
   "metadata": {},
   "outputs": [
    {
     "name": "stdout",
     "output_type": "stream",
     "text": [
      "10\n"
     ]
    }
   ],
   "source": [
    "a = 10\n",
    "print(a)"
   ]
  },
  {
   "cell_type": "code",
   "execution_count": 26,
   "id": "6089e844",
   "metadata": {},
   "outputs": [
    {
     "name": "stdout",
     "output_type": "stream",
     "text": [
      "10\n",
      "3.14\n",
      "surat\n",
      "Code Unnati 2.0\n",
      "True\n",
      "<class 'int'> <class 'float'> <class 'str'> <class 'str'> <class 'bool'>\n"
     ]
    }
   ],
   "source": [
    "a = 10\n",
    "b = 3.14\n",
    "c = \"surat\"\n",
    "d = \"Code Unnati 2.0\"\n",
    "e = True\n",
    "print(a,b,c,d,e, sep = '\\n')\n",
    "print(type(a),type(b), type(c),type(d),type(e))\n"
   ]
  },
  {
   "cell_type": "code",
   "execution_count": 27,
   "id": "e9ef36d5",
   "metadata": {},
   "outputs": [
    {
     "name": "stdout",
     "output_type": "stream",
     "text": [
      "10 4 5 6\n"
     ]
    }
   ],
   "source": [
    "b,c,d = 4,5,6\n",
    "print(a,b,c,d)"
   ]
  },
  {
   "cell_type": "markdown",
   "id": "24eb35e1",
   "metadata": {},
   "source": [
    "# Python String"
   ]
  },
  {
   "cell_type": "code",
   "execution_count": 38,
   "id": "265e72b9",
   "metadata": {},
   "outputs": [
    {
     "name": "stdout",
     "output_type": "stream",
     "text": [
      " your name  your surname\n",
      " your name your name your name your name your name\n"
     ]
    }
   ],
   "source": [
    "str1 = \" your name\"\n",
    "str2 = \"  your surname\"\n",
    "str3 = str1 + str2\n",
    "print(str3)\n",
    "str4 = str1*5\n",
    "print(str4)"
   ]
  },
  {
   "cell_type": "code",
   "execution_count": 48,
   "id": "4acb3605",
   "metadata": {},
   "outputs": [
    {
     "name": "stdout",
     "output_type": "stream",
     "text": [
      "48\n",
      "      python is a programming language          \n",
      "      PYTHON IS A PROGRAMMING LANGUAGE          \n",
      "      Python Is A Programming Language          \n",
      "python is a programming language          \n",
      "      python is a programming language\n",
      "python is a programming language\n"
     ]
    }
   ],
   "source": [
    "var = \"      python is a programming language          \"\n",
    "print(len(var))\n",
    "print(var.lower())\n",
    "print(var.upper())\n",
    "print(var.title())\n",
    "print(var.lstrip())\n",
    "print(var.rstrip())\n",
    "print(var.strip())"
   ]
  },
  {
   "cell_type": "code",
   "execution_count": 52,
   "id": "bcc83aec",
   "metadata": {},
   "outputs": [
    {
     "data": {
      "text/plain": [
       "'guj'"
      ]
     },
     "execution_count": 52,
     "metadata": {},
     "output_type": "execute_result"
    }
   ],
   "source": [
    "str1 = \"gujarat\"\n",
    "str1[0:3]"
   ]
  },
  {
   "cell_type": "code",
   "execution_count": 53,
   "id": "8b35412e",
   "metadata": {},
   "outputs": [
    {
     "data": {
      "text/plain": [
       "'jara'"
      ]
     },
     "execution_count": 53,
     "metadata": {},
     "output_type": "execute_result"
    }
   ],
   "source": [
    "str1[2:6]"
   ]
  },
  {
   "cell_type": "code",
   "execution_count": 58,
   "id": "a2a8c1c4",
   "metadata": {},
   "outputs": [
    {
     "data": {
      "text/plain": [
       "'etu'"
      ]
     },
     "execution_count": 58,
     "metadata": {},
     "output_type": "execute_result"
    }
   ],
   "source": [
    "\"beautiful\"[1::3]"
   ]
  },
  {
   "cell_type": "code",
   "execution_count": null,
   "id": "84874ff6",
   "metadata": {},
   "outputs": [],
   "source": [
    "fruits = ['apple', 'banana', 'cherry']\n",
    "cars = ['Ford', 'BMW', 'Volvo']\n",
    "\n",
    "fruits.extend([a,b,c])\n",
    "print(fruits)"
   ]
  },
  {
   "cell_type": "code",
   "execution_count": 2,
   "id": "63c870d5",
   "metadata": {},
   "outputs": [
    {
     "ename": "TypeError",
     "evalue": "pop expected at least 1 argument, got 0",
     "output_type": "error",
     "traceback": [
      "\u001b[1;31m---------------------------------------------------------------------------\u001b[0m",
      "\u001b[1;31mTypeError\u001b[0m                                 Traceback (most recent call last)",
      "Input \u001b[1;32mIn [2]\u001b[0m, in \u001b[0;36m<cell line: 6>\u001b[1;34m()\u001b[0m\n\u001b[0;32m      1\u001b[0m cars \u001b[38;5;241m=\u001b[39m {\n\u001b[0;32m      2\u001b[0m   \u001b[38;5;124m\"\u001b[39m\u001b[38;5;124mbrand\u001b[39m\u001b[38;5;124m\"\u001b[39m: \u001b[38;5;124m\"\u001b[39m\u001b[38;5;124mMahindra\u001b[39m\u001b[38;5;124m\"\u001b[39m,\n\u001b[0;32m      3\u001b[0m   \u001b[38;5;124m\"\u001b[39m\u001b[38;5;124mmodel\u001b[39m\u001b[38;5;124m\"\u001b[39m: \u001b[38;5;124m\"\u001b[39m\u001b[38;5;124mThar\u001b[39m\u001b[38;5;124m\"\u001b[39m,\n\u001b[0;32m      4\u001b[0m   \u001b[38;5;124m\"\u001b[39m\u001b[38;5;124myear\u001b[39m\u001b[38;5;124m\"\u001b[39m: \u001b[38;5;241m2010\u001b[39m\n\u001b[0;32m      5\u001b[0m }\n\u001b[1;32m----> 6\u001b[0m \u001b[43mcars\u001b[49m\u001b[38;5;241;43m.\u001b[39;49m\u001b[43mpop\u001b[49m\u001b[43m(\u001b[49m\u001b[43m)\u001b[49m\n\u001b[0;32m      7\u001b[0m cars\n",
      "\u001b[1;31mTypeError\u001b[0m: pop expected at least 1 argument, got 0"
     ]
    }
   ],
   "source": [
    "cars = {\n",
    "  \"brand\": \"Mahindra\",\n",
    "  \"model\": \"Thar\",\n",
    "  \"year\": 2010\n",
    "}\n",
    "cars.pop()\n",
    "cars"
   ]
  },
  {
   "cell_type": "code",
   "execution_count": 3,
   "id": "7248a5c9",
   "metadata": {},
   "outputs": [
    {
     "data": {
      "text/plain": [
       "['__and__',\n",
       " '__class__',\n",
       " '__class_getitem__',\n",
       " '__contains__',\n",
       " '__delattr__',\n",
       " '__dir__',\n",
       " '__doc__',\n",
       " '__eq__',\n",
       " '__format__',\n",
       " '__ge__',\n",
       " '__getattribute__',\n",
       " '__gt__',\n",
       " '__hash__',\n",
       " '__iand__',\n",
       " '__init__',\n",
       " '__init_subclass__',\n",
       " '__ior__',\n",
       " '__isub__',\n",
       " '__iter__',\n",
       " '__ixor__',\n",
       " '__le__',\n",
       " '__len__',\n",
       " '__lt__',\n",
       " '__ne__',\n",
       " '__new__',\n",
       " '__or__',\n",
       " '__rand__',\n",
       " '__reduce__',\n",
       " '__reduce_ex__',\n",
       " '__repr__',\n",
       " '__ror__',\n",
       " '__rsub__',\n",
       " '__rxor__',\n",
       " '__setattr__',\n",
       " '__sizeof__',\n",
       " '__str__',\n",
       " '__sub__',\n",
       " '__subclasshook__',\n",
       " '__xor__',\n",
       " 'add',\n",
       " 'clear',\n",
       " 'copy',\n",
       " 'difference',\n",
       " 'difference_update',\n",
       " 'discard',\n",
       " 'intersection',\n",
       " 'intersection_update',\n",
       " 'isdisjoint',\n",
       " 'issubset',\n",
       " 'issuperset',\n",
       " 'pop',\n",
       " 'remove',\n",
       " 'symmetric_difference',\n",
       " 'symmetric_difference_update',\n",
       " 'union',\n",
       " 'update']"
      ]
     },
     "execution_count": 3,
     "metadata": {},
     "output_type": "execute_result"
    }
   ],
   "source": [
    "dir(set)"
   ]
  },
  {
   "cell_type": "code",
   "execution_count": 4,
   "id": "f4b1b035",
   "metadata": {},
   "outputs": [
    {
     "data": {
      "text/plain": [
       "['__class__',\n",
       " '__class_getitem__',\n",
       " '__contains__',\n",
       " '__delattr__',\n",
       " '__delitem__',\n",
       " '__dir__',\n",
       " '__doc__',\n",
       " '__eq__',\n",
       " '__format__',\n",
       " '__ge__',\n",
       " '__getattribute__',\n",
       " '__getitem__',\n",
       " '__gt__',\n",
       " '__hash__',\n",
       " '__init__',\n",
       " '__init_subclass__',\n",
       " '__ior__',\n",
       " '__iter__',\n",
       " '__le__',\n",
       " '__len__',\n",
       " '__lt__',\n",
       " '__ne__',\n",
       " '__new__',\n",
       " '__or__',\n",
       " '__reduce__',\n",
       " '__reduce_ex__',\n",
       " '__repr__',\n",
       " '__reversed__',\n",
       " '__ror__',\n",
       " '__setattr__',\n",
       " '__setitem__',\n",
       " '__sizeof__',\n",
       " '__str__',\n",
       " '__subclasshook__',\n",
       " 'clear',\n",
       " 'copy',\n",
       " 'fromkeys',\n",
       " 'get',\n",
       " 'items',\n",
       " 'keys',\n",
       " 'pop',\n",
       " 'popitem',\n",
       " 'setdefault',\n",
       " 'update',\n",
       " 'values']"
      ]
     },
     "execution_count": 4,
     "metadata": {},
     "output_type": "execute_result"
    }
   ],
   "source": [
    "dir(dict)"
   ]
  },
  {
   "cell_type": "code",
   "execution_count": null,
   "id": "c97c1aba",
   "metadata": {},
   "outputs": [],
   "source": []
  }
 ],
 "metadata": {
  "kernelspec": {
   "display_name": "Python 3 (ipykernel)",
   "language": "python",
   "name": "python3"
  },
  "language_info": {
   "codemirror_mode": {
    "name": "ipython",
    "version": 3
   },
   "file_extension": ".py",
   "mimetype": "text/x-python",
   "name": "python",
   "nbconvert_exporter": "python",
   "pygments_lexer": "ipython3",
   "version": "3.9.12"
  }
 },
 "nbformat": 4,
 "nbformat_minor": 5
}
